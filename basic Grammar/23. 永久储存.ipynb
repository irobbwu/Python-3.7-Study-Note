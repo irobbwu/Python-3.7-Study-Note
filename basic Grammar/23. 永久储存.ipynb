{
 "cells": [
  {
   "cell_type": "markdown",
   "metadata": {},
   "source": [
    "# 10.27 文件：腌制一缸美味的泡菜"
   ]
  },
  {
   "cell_type": "markdown",
   "metadata": {},
   "source": [
    "## 习题\n",
    "1. 编写一个程序，这次要求使用pickle将文件（33.txt）里的对话按照以下要求腌制成不同文件（没错，是第29讲的内容小改，考考你自己能写出来吗？"
   ]
  },
  {
   "cell_type": "code",
   "execution_count": 9,
   "metadata": {
    "scrolled": true
   },
   "outputs": [],
   "source": [
    "# 答：\n",
    "import pickle\n",
    "\n",
    "def file_write(num, boy_text, girl_text):\n",
    "    boy_file = open('boy%d.txt'%num, 'wb')\n",
    "    girl_file = open('girl%d.txt'%num, 'wb')\n",
    "    pickle.dump(boy_text, boy_file)\n",
    "    pickle.dump(girl_text, girl_file)\n",
    "    boy_file.close()\n",
    "    girl_file.close()\n",
    "\n",
    "def seperate():\n",
    "    aim_file = open('/Users/yasmine/Documents/学习/language/\\\n",
    "python/files/33.txt')\n",
    "    num = 1\n",
    "    boy_text = []\n",
    "    girl_text = []\n",
    "    for i in aim_file:\n",
    "        if i[:3] == '小甲鱼':\n",
    "            boy_text.append(i[3:])\n",
    "        elif i[:3] == '小客服':\n",
    "            girl_text.append(i[3:])\n",
    "        elif i[:3] == '===':\n",
    "            file_write(num, boy_text, girl_text)\n",
    "            boy_text = []\n",
    "            girl_text = []\n",
    "            num += 1\n",
    "            continue\n",
    "        file_write(num, boy_text, girl_text)\n",
    "    aim_file.close()\n",
    "\n",
    "seperate()"
   ]
  },
  {
   "cell_type": "code",
   "execution_count": null,
   "metadata": {},
   "outputs": [],
   "source": [
    "# 参考答案：\n",
    "import pickle\n",
    "def save_pickle_file(boy,girl,count):\n",
    "    file_name_boy = 'boy_' + str(count) + '.txt'\n",
    "    file_name_girl = 'girl_' + str(count) + '.txt'\n",
    " \n",
    "    boy_pickle_file = open(file_name_boy,'wb')\n",
    "    girl_pickle_file = open(file_name_girl,'wb')\n",
    " \n",
    "    pickle.dump(boy,boy_pickle_file)\n",
    "    pickle.dump(girl,girl_pickle_file)\n",
    " \n",
    "    boy_pickle_file.close()\n",
    "    girl_pickle_file.close()\n",
    " \n",
    "def split_file(file_name):\n",
    "    f = open(file_name)\n",
    "    boy = []\n",
    "    girl = []\n",
    "    count = 1\n",
    " \n",
    "    for each_line in f:\n",
    "        if each_line[:6] != '======':\n",
    "            (role,line_spoken) = each_line.split(':',1)\n",
    "            if role == '小甲鱼':\n",
    "                boy.append(line_spoken)\n",
    "            elif role == '小客服':\n",
    "                girl.append(line_spoken)\n",
    "        else:\n",
    "            save_pickle_file(boy,girl,count)\n",
    "            count += 1\n",
    "            boy = []\n",
    "            girl = []\n",
    " \n",
    "    save_pickle_file(boy,girl,count)\n",
    " \n",
    "    f.close()\n",
    " \n",
    "split_file('33.txt')"
   ]
  },
  {
   "cell_type": "markdown",
   "metadata": {},
   "source": [
    "# 课堂小结\n",
    "\n",
    "1.请写下这一节课你学习到的内容：格式不限，回忆并复述是加强记忆的好方式！\n",
    "\n",
    "piickle模块的用法：\n",
    "总体使用方法类似于文件的读写，都要遵循打开→读/写→关闭\n",
    "\n",
    "写入：\n",
    "首先打开：pickle_file = open('my_list.pkl','wb')#打开名为my_list.pkl的文件，以二进制的方式进行写入\n",
    "写入：pickle.dump(temp_list,pickle_file)#把列表temp_list中的内容写入到my_list.pkl中,pickle_file表示打开的文件对象\n",
    "关闭：pickle_file.close()\n",
    "\n",
    "读取：\n",
    "打开：pickle_file = open('('my_list.pkl','rb')#以二进制读的方式打开文件my_list.pkl\n",
    "读取：temp1_list = pickle.load(pickle_file)\n",
    "关闭：pickle_file.close()\n"
   ]
  }
 ],
 "metadata": {
  "kernelspec": {
   "display_name": "Python 3",
   "language": "python",
   "name": "python3"
  },
  "language_info": {
   "codemirror_mode": {
    "name": "ipython",
    "version": 3
   },
   "file_extension": ".py",
   "mimetype": "text/x-python",
   "name": "python",
   "nbconvert_exporter": "python",
   "pygments_lexer": "ipython3",
   "version": "3.8.1"
  }
 },
 "nbformat": 4,
 "nbformat_minor": 4
}
