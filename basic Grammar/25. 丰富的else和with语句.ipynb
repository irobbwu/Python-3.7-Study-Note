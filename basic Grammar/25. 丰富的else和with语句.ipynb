{
 "cells": [
  {
   "cell_type": "markdown",
   "metadata": {},
   "source": [
    "# 11.1 丰富的else和with语句"
   ]
  },
  {
   "cell_type": "markdown",
   "metadata": {},
   "source": [
    "# 课后习题"
   ]
  },
  {
   "cell_type": "markdown",
   "metadata": {},
   "source": [
    "1. 使用 with语句改写以下代码，让 Python去关心文件的打开与关闭吧"
   ]
  },
  {
   "cell_type": "code",
   "execution_count": null,
   "metadata": {},
   "outputs": [],
   "source": [
    "def file_compare(file1,file2):  \n",
    "    f1 = open(file1)  \n",
    "    f2 = open(file2)  \n",
    "    count = 0#统计行数  \n",
    "    differ = []#统计不一样的数量  \n",
    " \n",
    "    for line1 in f1:  \n",
    "        line2 = f2.readline()  \n",
    "        count += 1  \n",
    "        if line1 != line2:  \n",
    "            differ.append(count)  \n",
    " \n",
    "    f1.close()  \n",
    "    f2.close()  \n",
    "    return differ  \n",
    " \n",
    "file1 = input('请输入需要比较的头一个文件名：')  \n",
    "file2 = input('请输入需要比较的另一个文件名：')  \n",
    " \n",
    "differ = file_compare(file1,file2)  \n",
    " \n",
    "if len(differ) == 0:  \n",
    "    print('两个文件完全一样！')  \n",
    "else:  \n",
    "    print('两个文件共有【%d】处不同：'%len(differ))  \n",
    "    for each in differ:  \n",
    "        print('第%d行不一样'%each)        "
   ]
  },
  {
   "cell_type": "code",
   "execution_count": null,
   "metadata": {},
   "outputs": [],
   "source": [
    "# 答：\n",
    "def file_compare(file1,file2):  \n",
    "    with open(file1) as f1, open(file2) as f2: \n",
    "        count = 0#统计行数  \n",
    "        differ = []#统计不一样的数量  \n",
    "\n",
    "        for line1 in f1:  \n",
    "            line2 = f2.readline()  \n",
    "            count += 1  \n",
    "            if line1 != line2:  \n",
    "                differ.append(count)   \n",
    "    return differ "
   ]
  },
  {
   "cell_type": "markdown",
   "metadata": {},
   "source": [
    "参考答案："
   ]
  },
  {
   "cell_type": "code",
   "execution_count": null,
   "metadata": {},
   "outputs": [],
   "source": [
    "def file_compare(file1,file2):  \n",
    "    with open(file1) as f1, open(file2) as f2:  \n",
    "        count = 0#统计行数  \n",
    "        differ = []#统计不一样的数量  \n",
    " \n",
    "        for line1 in f1:  \n",
    "            line2 = f2.readline()  \n",
    "            count += 1  \n",
    "            if line1 != line2:  \n",
    "                differ.append(count)  \n",
    "    return differ  "
   ]
  },
  {
   "cell_type": "markdown",
   "metadata": {},
   "source": [
    "2. 你可以利用异常的原理，修改下面的代码使得更高效率的实现吗？ "
   ]
  },
  {
   "cell_type": "code",
   "execution_count": null,
   "metadata": {},
   "outputs": [],
   "source": [
    "print('|--- 欢迎进入通讯录程序 ---|')\n",
    "print('|--- 1：查询联系人资料  ---|')\n",
    "print('|--- 2：插入新的联系人  ---|')\n",
    "print('|--- 3：删除已有联系人  ---|')\n",
    "print('|--- 4：退出通讯录程序  ---|')\n",
    "\n",
    "contacts = dict()\n",
    "\n",
    "while 1:\n",
    "    instr = int(input('\\n请输入相关的指令代码：'))\n",
    "\n",
    "    if instr == 1:\n",
    "        name = input('请输入联系人姓名：')\n",
    "        if name in contacts:\n",
    "            print(name + ' : ' + contacts[name])\n",
    "        else:\n",
    "            print('您输入的姓名不再通讯录中！')\n",
    "\n",
    "    if instr == 2:\n",
    "        name = input('请输入联系人姓名：')\n",
    "        if name in contacts:\n",
    "            print('您输入的姓名在通讯录中已存在 -->> ', end='')\n",
    "            print(name + ' : ' + contacts[name])\n",
    "            if input('是否修改用户资料（YES/NO）：') == 'YES':\n",
    "                contacts[name] = input('请输入用户联系电话：')\n",
    "        else:\n",
    "            contacts[name] = input('请输入用户联系电话：')\n",
    "\n",
    "    if instr == 3:\n",
    "        name = input('请输入联系人姓名：')\n",
    "        if name in contacts:\n",
    "            del(contacts[name])         # 也可以使用dict.pop()\n",
    "        else:\n",
    "            print('您输入的联系人不存在。')\n",
    "\n",
    "    if instr == 4:\n",
    "        break\n",
    "\n",
    "print('|--- 感谢使用通讯录程序 ---|')"
   ]
  },
  {
   "cell_type": "code",
   "execution_count": null,
   "metadata": {},
   "outputs": [],
   "source": [
    "print('|--- 欢迎进入通讯录程序 ---|')\n",
    "print('|--- 1：查询联系人资料  ---|')\n",
    "print('|--- 2：插入新的联系人  ---|')\n",
    "print('|--- 3：删除已有联系人  ---|')\n",
    "print('|--- 4：退出通讯录程序  ---|')\n",
    "\n",
    "contacts = dict()\n",
    "\n",
    "while 1:\n",
    "    instr = int(input('\\n请输入相关的指令代码：'))\n",
    "\n",
    "    if instr == 1:\n",
    "        name = input('请输入联系人姓名：')\n",
    "        try:\n",
    "            print(name + ' : ' + contacts[name])\n",
    "        except KeyError:\n",
    "            print('您输入的姓名不再通讯录中！')\n",
    "\n",
    "    if instr == 2:\n",
    "        name = input('请输入联系人姓名：')\n",
    "        try:\n",
    "            contacts[name] \n",
    "            print('您输入的姓名在通讯录中已存在 -->> ', end='')\n",
    "            print(name + ' : ' + contacts[name])\n",
    "            if input('是否修改用户资料（YES/NO）：') == 'YES':\n",
    "                contacts[name] = input('请输入用户联系电话：')\n",
    "        except KeyError:\n",
    "            contacts[name] = input('请输入用户联系电话：')\n",
    "\n",
    "    if instr == 3:\n",
    "        name = input('请输入联系人姓名：')\n",
    "        try:\n",
    "            del(contacts[name]) # 也可以使用dict.pop()\n",
    "        except KeyError:\n",
    "            print('您输入的联系人不存在。')\n",
    "\n",
    "    if instr == 4:\n",
    "        break\n",
    "\n",
    "print('|--- 感谢使用通讯录程序 ---|')"
   ]
  },
  {
   "cell_type": "markdown",
   "metadata": {},
   "source": [
    "# 本章小节\n",
    "\n",
    "else语句的用法一：\n",
    "```\n",
    "if a>b:\n",
    "    print(a)\n",
    "else:\n",
    "    print(b)\n",
    "```\n",
    "\n",
    "else语句的用法二：\n",
    "```\n",
    "#*************************************************#  \n",
    "#      判断给定数的最大公约数，如果是素数，则打印        #  \n",
    "#*************************************************#  \n",
    "def showMaxFactor(num):  \n",
    "    count = num//2  \n",
    "    while count > 1:  \n",
    "        if num %count == 0:  \n",
    "            print('%d最大的约数是%d'%(num,count))  \n",
    "            break  \n",
    "        count -= 1  \n",
    "    else:  # 只在循环完成后才执行，如果循环中执行使用到break，则else不执行\n",
    "        print('%d是素数！'%num)  \n",
    "\n",
    "num = int(input('请输入一个数：'))  \n",
    "showMaxFactor(num) \n",
    "```\n",
    "\n",
    "else语句的用法三：\n",
    "```\n",
    "try:  \n",
    "    print(int('abc'))  \n",
    "except ValueError as reason:  \n",
    "    print('出错啦：' + reason)  \n",
    "else:  \n",
    "    print('没有任何异常！')  # 如果没有出错，则打印出‘没有任何异常！’\n",
    "```\n",
    "\n",
    "with 语句的语法格式如下：\n",
    "```\n",
    "with context_expression [as target(s)]:\n",
    "    with-body\n",
    "```\n"
   ]
  }
 ],
 "metadata": {
  "kernelspec": {
   "display_name": "Python 3",
   "language": "python",
   "name": "python3"
  },
  "language_info": {
   "codemirror_mode": {
    "name": "ipython",
    "version": 3
   },
   "file_extension": ".py",
   "mimetype": "text/x-python",
   "name": "python",
   "nbconvert_exporter": "python",
   "pygments_lexer": "ipython3",
   "version": "3.9.0"
  }
 },
 "nbformat": 4,
 "nbformat_minor": 4
}
