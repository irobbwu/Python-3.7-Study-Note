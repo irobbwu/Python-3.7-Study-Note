{
 "cells": [
  {
   "cell_type": "markdown",
   "metadata": {},
   "source": [
    "# 10.28 异常值处理"
   ]
  },
  {
   "cell_type": "markdown",
   "metadata": {},
   "source": [
    "## 本章小节 (1)"
   ]
  },
  {
   "cell_type": "markdown",
   "metadata": {},
   "source": [
    "### Python标准异常总结\n",
    "|异常名称|解释|\n",
    "|----|----|\n",
    "|AssertionError|断言语句（assert）失败：当assert关键字后边的条件为假时，程序将抛出该异常，一般用于在代码中置入检查点|\n",
    "|AttributeError|尝试访问未知的对象属性：当试图访问的对象属性不存在时抛出的异常|\n",
    "|EOFError\t|这个错误基本上是意味着它发现了一个不期望的文件尾。（UNIX上为Ctrl+d，Windows上为Ctrl+Z+Enter）|\n",
    "|FloatingPointError\t|浮点计算错误|\n",
    "|GeneratorExit|\tGengeator.close()方法被调用的时候|\n",
    "|ImportError|\t导入模块失败的时候|\n",
    "|IndexError|\t索引超出序列的范围|\n",
    "|KeyError|\t字典中查找一个不存在的关键字|\n",
    "|KeyboardError|\t用户输入中断键（Ctrl+c）|\n",
    "|MemoryError|内存溢出（可通过删除对象释放内存）|\n",
    "|NameError|\t尝试访问一个不存在的变量|\n",
    "|NotImplementedError|\t尚未实现的方法|\n",
    "|OSError|\t操作系统产生的异常（例如打开一个不存在的文件）|\n",
    "|OverflowError|\t数值运算超出最大限制|\n",
    "|ReferenceError|\t弱引用（weak reference）试图访问一个已经被垃圾回收几只回收了的对象|\n",
    "|RuntimeError|\t一般的运行时错误|\n",
    "|StopIteration|\t迭代器没有更多的值|\n",
    "|SyntaxError|\tPython的语法错误|\n",
    "|IndentationError|\t缩进错误|\n",
    "|TabError|\tTab和空格混合使用|\n",
    "|SystemError|\tPython编译器系统错误|\n",
    "|SystenExit|\tPython编译器进程被关闭|\n",
    "|TypeError|\t不同类型间的无效操作|\n",
    "|UnboundLocalError|\t访问一个未初始化的本地变量（NameError的子类）|\n",
    "|UnicodeError|\tUnicode相关的错误（ValueError的子类）|\n",
    "|UnicodeEncodeError|\tUnicode编码时的错误（UnicodeError的子类）|\n",
    "|UnicodeDecodeError|\tUnicode解码时的错误（UnicodeError的子类）|\n",
    "|UnicodeTranslateError|\tUnicode转换时的错误（UnicodeError的子类）|\n",
    "|ValueError|\t传入无效的参数|\n",
    "|ZeroDivisionError|\t除数为零|"
   ]
  },
  {
   "cell_type": "markdown",
   "metadata": {},
   "source": [
    "|1|2|\n",
    "|----|----|\n"
   ]
  },
  {
   "cell_type": "markdown",
   "metadata": {},
   "source": [
    "## 习题"
   ]
  },
  {
   "cell_type": "markdown",
   "metadata": {},
   "source": [
    "1.还记得我们第一个小游戏吗？只要用户输入非整型数据，程序立刻就会蹦出不和谐的异常信息然后崩溃。请使用刚学的异常处理方法修改以下程序，提高用户体验。)"
   ]
  },
  {
   "cell_type": "code",
   "execution_count": null,
   "metadata": {},
   "outputs": [],
   "source": [
    "# 答：\n",
    "def game():\n",
    "    import random\n",
    "    sec = random.randint(1,10)\n",
    "    reg = 0\n",
    "    times = 3 #( = 的意思是赋值， == 的意思是比较是否相等)\n",
    "    while reg != sec and times > 0:\n",
    "        guess = input('Input your number!\\n')\n",
    "        reg = int(guess)\n",
    "        if reg == sec:\n",
    "            print('Nice')\n",
    "            print('There is no present')\n",
    "        else:\n",
    "            print('Wrong.')\n",
    "            if reg > sec:\n",
    "                  print('Bingger a bit!')\n",
    "            if reg < sec:\n",
    "                  print('Smaller a bit!')\n",
    "        times = times - 1\n",
    "        if times > 0:\n",
    "            print('Please try again!')\n",
    "        else:\n",
    "            print('There is no chance!')\n",
    "    print('Game over!') \n",
    "    \n",
    "try:\n",
    "    game()\n",
    "except ValueError:\n",
    "    print('Wrong input. Please input right number!')\n",
    "    game()"
   ]
  },
  {
   "cell_type": "code",
   "execution_count": null,
   "metadata": {},
   "outputs": [],
   "source": [
    "# 参考答案\n",
    "import random\n",
    " \n",
    "secret = random.randint(1,10)\n",
    "print('------------------我爱鱼C工作室------------------')\n",
    "temp = input(\"不妨猜一下小甲鱼现在心里想的是哪个数字：\")\n",
    "try:    \n",
    "    guess = int(temp)\n",
    "except ValueError:\n",
    "    print('输入错误！')\n",
    "    guess = secret\n",
    "while guess != secret:\n",
    "    temp = input(\"哎呀，猜错了，请重新输入吧：\")\n",
    "    guess = int(temp)\n",
    "    if guess == secret:\n",
    "        print(\"我草，你是小甲鱼心里的蛔虫吗？！\")\n",
    "        print(\"哼，猜中了也没有奖励！\")\n",
    "    else:\n",
    "        if guess > secret:\n",
    "            print(\"哥，大了大了~~~\")\n",
    "        else:\n",
    "            print(\"嘿，小了，小了~~~\")\n",
    "print(\"游戏结束，不玩啦^_^\")"
   ]
  },
  {
   "cell_type": "markdown",
   "metadata": {},
   "source": [
    "2.input( ) 函数有可能产生两类异常：EOFError（文件末尾endoffile，当用户按下组合键 Ctrl+d 产生）和 KeyboardInterrupt（取消输入，当用户按下组合键 Ctrl+c 产生），再次修改上边代码，捕获处理 input() 的两类异常，提高用户体验。"
   ]
  },
  {
   "cell_type": "code",
   "execution_count": null,
   "metadata": {},
   "outputs": [],
   "source": [
    "# 答：\n",
    "def game():\n",
    "    import random\n",
    "    sec = random.randint(1,10)\n",
    "    reg = 0\n",
    "    times = 3 #( = 的意思是赋值， == 的意思是比较是否相等)\n",
    "    while reg != sec and times > 0:\n",
    "        guess = input('Input your number!\\n')\n",
    "        reg = int(guess)\n",
    "        if reg == sec:\n",
    "            print('Nice')\n",
    "            print('There is no present')\n",
    "        else:\n",
    "            print('Wrong.')\n",
    "            if reg > sec:\n",
    "                  print('Bingger a bit!')\n",
    "            if reg < sec:\n",
    "                  print('Smaller a bit!')\n",
    "        times = times - 1\n",
    "        if times > 0:\n",
    "            print('Please try again!')\n",
    "        else:\n",
    "            print('There is no chance!')\n",
    "    print('Game over!') \n",
    "    \n",
    "try:\n",
    "    game()\n",
    "except (ValueError, EOFError, KeyboardInterrupt):\n",
    "    print('Wrong input. Please input right number!')\n",
    "    game()"
   ]
  },
  {
   "cell_type": "code",
   "execution_count": null,
   "metadata": {},
   "outputs": [],
   "source": [
    "# 参考答案：\n",
    "import random\n",
    " \n",
    "secret = random.randint(1,10)\n",
    "print('------------------我爱鱼C工作室------------------')\n",
    "try:\n",
    "    temp = input(\"不妨猜一下小甲鱼现在心里想的是哪个数字：\")    \n",
    "    guess = int(temp)\n",
    "except (ValueError, EOFError, KeyboardInterrupt):\n",
    "    print('输入错误！')\n",
    "    guess = secret\n",
    "while guess != secret:\n",
    "    temp = input(\"哎呀，猜错了，请重新输入吧：\")\n",
    "    guess = int(temp)\n",
    "    if guess == secret:\n",
    "        print(\"我草，你是小甲鱼心里的蛔虫吗？！\")\n",
    "        print(\"哼，猜中了也没有奖励！\")\n",
    "    else:\n",
    "        if guess > secret:\n",
    "            print(\"哥，大了大了~~~\")\n",
    "        else:\n",
    "            print(\"嘿，小了，小了~~~\")\n",
    "print(\"游戏结束，不玩啦^_^\")"
   ]
  },
  {
   "cell_type": "markdown",
   "metadata": {},
   "source": [
    "3.尝试一个新的函数 int_input()，当用户输入整数的时候正常返回，否则提示出错并要求重新输入。"
   ]
  },
  {
   "cell_type": "code",
   "execution_count": null,
   "metadata": {},
   "outputs": [],
   "source": [
    "# 答：\n",
    "def int_input():\n",
    "    try:\n",
    "        check_input = input('Please input the number:')\n",
    "        int(check_input)\n",
    "    except ValueError:\n",
    "        check_input = input('Wrong input.\\\n",
    "        \\nPlease re-input your number!')\n",
    "    finally:\n",
    "        print(check_input)\n",
    "\n",
    "int_input()"
   ]
  },
  {
   "cell_type": "code",
   "execution_count": null,
   "metadata": {},
   "outputs": [],
   "source": [
    "def int_input(prompt=''):\n",
    "    while True:\n",
    "        try:\n",
    "            int(input(prompt))\n",
    "            break\n",
    "        except ValueError:\n",
    "            print('出错，您输入的不是整数！')\n",
    " \n",
    "int_input('请输入一个整数：')"
   ]
  },
  {
   "cell_type": "markdown",
   "metadata": {},
   "source": [
    "4.把文件关闭放在 finally 语句块中执行还是会出现问题，像下边这个代码，当前文件夹中并不存在\"My_File.txt\"这个文件，那么程序执行起来会发生什么事情呢？你有办法解决这个问题吗？\n",
    "\n",
    "```\n",
    "try:\n",
    "    f = open('My_File.txt') # 当前文件夹中并不存在\"My_File.txt\"这个文件T_T\n",
    "    print(f.read())\n",
    "except OSError as reason:\n",
    "    print('出错啦：' + str(reason))\n",
    "finally:\n",
    "f.close()\n",
    "```"
   ]
  },
  {
   "cell_type": "code",
   "execution_count": null,
   "metadata": {},
   "outputs": [],
   "source": [
    "# 答：\n",
    "try:\n",
    "    f = open('My_File.txt') # 当前文件夹中并不存在\"My_File.txt\"这个文件T_T\n",
    "    print(f.read())\n",
    "except OSError as reason:\n",
    "    i = print('出错啦：' + str(reason))\n",
    "finally:\n",
    "    if i == '': \n",
    "        f.close()"
   ]
  },
  {
   "cell_type": "code",
   "execution_count": 2,
   "metadata": {},
   "outputs": [
    {
     "name": "stdout",
     "output_type": "stream",
     "text": [
      "出错啦：[Errno 2] No such file or directory: 'My_File.txt'\n"
     ]
    }
   ],
   "source": [
    "try:\n",
    "    f = open('My_File.txt') # 当前文件夹中并不存在\"My_File.txt\"这个文件T_T\n",
    "    print(f.read())\n",
    "except OSError as reason:\n",
    "    print('出错啦：' + str(reason))\n",
    "finally:\n",
    "    if 'f' in locals(): # 如果文件对象变量存在当前局部变量符号表的话，说明打开成功\n",
    "        f.close()"
   ]
  },
  {
   "cell_type": "markdown",
   "metadata": {},
   "source": [
    "# 本章小节(2)\n",
    "\n",
    "```\n",
    "try:\n",
    "    检测范围\n",
    "except Exception[as reason]:\n",
    "    出现异常（Exception）后的处理代码\n",
    "```\n",
    "\n",
    "```\n",
    "try:\n",
    "    检测范围\n",
    "except Exception[as reason]:\n",
    "    出现异常（Exception）后的处理代码\n",
    "finally:\n",
    "    无论如何都会被执行的代码</span>\n",
    "```\n",
    "\n",
    "```\n",
    ">>> raise ZeroDivisionError('除数为零的异常')\n",
    "<span style=\"color:#ff0000;\">Traceback (most recent call last):\n",
    "  File \"<pyshell#0>\", line 1, in <module>\n",
    "    raise ZeroDivisionError('除数为零的异常')\n",
    "ZeroDivisionError: 除数为零的异常</span>\n",
    "```"
   ]
  },
  {
   "cell_type": "code",
   "execution_count": null,
   "metadata": {},
   "outputs": [],
   "source": []
  }
 ],
 "metadata": {
  "kernelspec": {
   "display_name": "Python 3",
   "language": "python",
   "name": "python3"
  },
  "language_info": {
   "codemirror_mode": {
    "name": "ipython",
    "version": 3
   },
   "file_extension": ".py",
   "mimetype": "text/x-python",
   "name": "python",
   "nbconvert_exporter": "python",
   "pygments_lexer": "ipython3",
   "version": "3.9.0"
  }
 },
 "nbformat": 4,
 "nbformat_minor": 4
}
