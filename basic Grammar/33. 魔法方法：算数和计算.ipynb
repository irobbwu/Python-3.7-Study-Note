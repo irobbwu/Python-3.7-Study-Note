{
 "cells": [
  {
   "cell_type": "markdown",
   "metadata": {},
   "source": [
    "# 魔法方法：算数和运算\n",
    "## 本章小节"
   ]
  },
  {
   "cell_type": "markdown",
   "metadata": {},
   "source": [
    "|运算符|对应的魔法方法|中文注释|\n",
    "|:----|:----|:----|\n",
    "|+|\t__ add__(self, other)|加法|\n",
    "|-|\t__ sub__(self, other)|减法|\n",
    "|*|\t__ mul__(self, other)|乘法|\n",
    "|/|\t__ truediv__(self, other)|真除法|\n",
    "|//|__ floordiv__(self, other)|整数除法|\n",
    "|%|\t__ mod__(self, other)\t|取余除法|\n",
    "|divmod(a, b)|\t__ divmod__(self, other)|把除数和余数运算结果结合|\n",
    "|**|\t__ pow__(self, other[,modulo])|self的other次方再对modulo取余|\n",
    "|<<|\t__ lshift__(self, other)|按位左移|\n",
    "|>>|\t__ rshift__(self, other)|按位右移\n",
    "|&|\t__ and__(self, other)|按位与操作|\n",
    "|^|\t__ xor__(self, other)|按位异或操作(同为0，异为1)|\n",
    "|丨|\t__ or__(self, other)|按位或操作(有1则1)|\n"
   ]
  },
  {
   "cell_type": "markdown",
   "metadata": {},
   "source": [
    "## 课后习题\n",
    "\n",
    "1.我们都知道在Python中，两个字符串相加会自动拼接字符串，但遗憾的是两个字符串相减却抛出异常，因此，现在我们要求定义一个Nstr类，支持字符串的相减操作：A - B，从A中去除所有B的子字符串。"
   ]
  },
  {
   "cell_type": "code",
   "execution_count": 1,
   "metadata": {},
   "outputs": [],
   "source": [
    "class Nstr(str):\n",
    "    def __sub__(self, other):\n",
    "        if other in self:\n",
    "            return self.replace(other, '')\n",
    "            "
   ]
  },
  {
   "cell_type": "code",
   "execution_count": 2,
   "metadata": {},
   "outputs": [],
   "source": [
    "a = Nstr('sdsdsds')"
   ]
  },
  {
   "cell_type": "code",
   "execution_count": 3,
   "metadata": {},
   "outputs": [],
   "source": [
    "b = Nstr('d')"
   ]
  },
  {
   "cell_type": "code",
   "execution_count": 4,
   "metadata": {},
   "outputs": [
    {
     "data": {
      "text/plain": [
       "'ssss'"
      ]
     },
     "execution_count": 4,
     "metadata": {},
     "output_type": "execute_result"
    }
   ],
   "source": [
    "a - b"
   ]
  },
  {
   "cell_type": "markdown",
   "metadata": {},
   "source": [
    "2.移位操作符是应用于二进制操作数的，现在需要你定义一个新的类Nstr，也支持移位操作符的运算。"
   ]
  },
  {
   "cell_type": "code",
   "execution_count": 5,
   "metadata": {},
   "outputs": [],
   "source": [
    "class Nstr(str):\n",
    "    def __lshift__(self, other): \n",
    "        a = self[:other]\n",
    "        new_str = self.replace(a, '', 1) + a\n",
    "        return Nstr(new_str)\n",
    "    def __rshift__(self, other):\n",
    "        return Nstr(self[-other:] + self[:-other])"
   ]
  },
  {
   "cell_type": "code",
   "execution_count": 6,
   "metadata": {},
   "outputs": [],
   "source": [
    "a = Nstr('I love FishC.com!')"
   ]
  },
  {
   "cell_type": "code",
   "execution_count": 7,
   "metadata": {
    "scrolled": true
   },
   "outputs": [
    {
     "data": {
      "text/plain": [
       "'ove FishC.com!I l'"
      ]
     },
     "execution_count": 7,
     "metadata": {},
     "output_type": "execute_result"
    }
   ],
   "source": [
    "b = a << 3\n",
    "b"
   ]
  },
  {
   "cell_type": "code",
   "execution_count": 8,
   "metadata": {},
   "outputs": [
    {
     "name": "stdout",
     "output_type": "stream",
     "text": [
      "I love FishC.com!\n"
     ]
    }
   ],
   "source": [
    "print(b >> 3)"
   ]
  },
  {
   "cell_type": "markdown",
   "metadata": {},
   "source": [
    "3.定义一个类Nstr，当该类的实例对象间发生的加、减、乘、除运算时，将该对象的所有字符串的ASCII码之和进行运算。"
   ]
  },
  {
   "cell_type": "code",
   "execution_count": 9,
   "metadata": {},
   "outputs": [],
   "source": [
    "class Nstr(str):\n",
    "    def __init__(self, aim):\n",
    "        total = 0\n",
    "        for i in aim:\n",
    "            total = total + ord(i)\n",
    "        self.ASC = total\n",
    "    \n",
    "    def __add__(self, other):\n",
    "        return self.ASC + other.ASC\n",
    "    '''其余类似'''"
   ]
  },
  {
   "cell_type": "code",
   "execution_count": 10,
   "metadata": {},
   "outputs": [],
   "source": [
    "a = Nstr('abc')\n",
    "b = Nstr('def')"
   ]
  },
  {
   "cell_type": "code",
   "execution_count": 11,
   "metadata": {},
   "outputs": [
    {
     "data": {
      "text/plain": [
       "597"
      ]
     },
     "execution_count": 11,
     "metadata": {},
     "output_type": "execute_result"
    }
   ],
   "source": [
    "a + b"
   ]
  },
  {
   "cell_type": "markdown",
   "metadata": {},
   "source": [
    "## 本章小节"
   ]
  },
  {
   "cell_type": "markdown",
   "metadata": {},
   "source": [
    "工厂函数：其实就是一个类对象，被调用的时候，事实上就是创建一个相应的实例对象。就是：\n",
    "\n",
    "```\n",
    ">>> type(int)\n",
    "<class 'type'>\n",
    ">>> type(dir)\n",
    "<class 'type'>\n",
    ">>> type(list)\n",
    "<class 'type'>\n",
    ">>> class C:\n",
    "       pass\n",
    ">>> type(C)\n",
    "<class 'type'>\n",
    "```\n",
    "\n",
    "算数运算相关的魔法方法\n",
    "见上面的表格\n",
    "\n"
   ]
  }
 ],
 "metadata": {
  "kernelspec": {
   "display_name": "Python 3",
   "language": "python",
   "name": "python3"
  },
  "language_info": {
   "codemirror_mode": {
    "name": "ipython",
    "version": 3
   },
   "file_extension": ".py",
   "mimetype": "text/x-python",
   "name": "python",
   "nbconvert_exporter": "python",
   "pygments_lexer": "ipython3",
   "version": "3.7.9"
  }
 },
 "nbformat": 4,
 "nbformat_minor": 4
}
